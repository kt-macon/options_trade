{
 "cells": [
  {
   "cell_type": "code",
   "execution_count": 2,
   "id": "500f80ce",
   "metadata": {},
   "outputs": [
    {
     "name": "stdout",
     "output_type": "stream",
     "text": [
      "Call Option Price: 10.45\n",
      "Put Option Price: 5.57\n"
     ]
    }
   ],
   "source": [
    "import numpy as np\n",
    "from scipy.stats import norm\n",
    "\n",
    "def black_scholes(S0, K, T, r, sigma, option_type=\"call\"):\n",
    "    \"\"\"\n",
    "    Calculate the Black-Scholes option price for European call and put options.\n",
    "    \n",
    "    Parameters:\n",
    "        S0 (float): Current stock price (spot price)\n",
    "        K (float): Strike price\n",
    "        T (float): Time to expiration in years\n",
    "        r (float): Risk-free interest rate (annual)\n",
    "        sigma (float): Volatility (annual standard deviation of the stock's returns)\n",
    "        option_type (str): Option type, \"call\" for Call option or \"put\" for Put option\n",
    "    \n",
    "    Returns:\n",
    "        float: The option price\n",
    "    \"\"\"\n",
    "    # Calculate d1 and d2\n",
    "    d1 = (np.log(S0 / K) + (r + 0.5 * sigma ** 2) * T) / (sigma * np.sqrt(T))\n",
    "    d2 = d1 - sigma * np.sqrt(T)\n",
    "    \n",
    "    # Call option price (Black-Scholes formula)\n",
    "    if option_type == \"call\":\n",
    "        option_price = S0 * norm.cdf(d1) - K * np.exp(-r * T) * norm.cdf(d2)\n",
    "    \n",
    "    # Put option price (Black-Scholes formula)\n",
    "    elif option_type == \"put\":\n",
    "        option_price = K * np.exp(-r * T) * norm.cdf(-d2) - S0 * norm.cdf(-d1)\n",
    "    \n",
    "    else:\n",
    "        raise ValueError(\"Invalid option type. Use 'call' or 'put'.\")\n",
    "    \n",
    "    return option_price\n",
    "\n",
    "# Example Usage:\n",
    "S0 = 100  # Current stock price\n",
    "K = 100   # Strike price\n",
    "T = 1     # Time to expiration in years\n",
    "r = 0.05  # Risk-free interest rate\n",
    "sigma = 0.2  # Volatility (20%)\n",
    "\n",
    "# Calculate call and put option prices\n",
    "call_price = black_scholes(S0, K, T, r, sigma, option_type=\"call\")\n",
    "put_price = black_scholes(S0, K, T, r, sigma, option_type=\"put\")\n",
    "\n",
    "print(f\"Call Option Price: {call_price:.2f}\")\n",
    "print(f\"Put Option Price: {put_price:.2f}\")\n"
   ]
  },
  {
   "cell_type": "code",
   "execution_count": 5,
   "id": "a08550c6",
   "metadata": {},
   "outputs": [
    {
     "name": "stdout",
     "output_type": "stream",
     "text": [
      "Call Option Price: 0.7746\n",
      "Put Option Price: 4.9594\n"
     ]
    }
   ],
   "source": [
    "# Example Usage:\n",
    "S0 = 45  # Current stock price\n",
    "K = 50   # Strike price\n",
    "T = 0.16438     # Time to expiration in years\n",
    "r = 0.1  # Risk-free interest rate\n",
    "sigma = 0.3  # Volatility (20%)\n",
    "\n",
    "# Calculate call and put option prices\n",
    "call_price = black_scholes(S0, K, T, r, sigma, option_type=\"call\")\n",
    "put_price = black_scholes(S0, K, T, r, sigma, option_type=\"put\")\n",
    "\n",
    "print(f\"Call Option Price: {call_price:.4f}\")\n",
    "print(f\"Put Option Price: {put_price:.4f}\")\n"
   ]
  },
  {
   "cell_type": "code",
   "execution_count": null,
   "id": "12f062c5",
   "metadata": {},
   "outputs": [],
   "source": [
    "'''\n",
    "BS model\n",
    "假设价格的对数是正太分布\n",
    "sigma不是价格的波动率，而是价格对数的波动率\n",
    "\n",
    "隐含波动率\n",
    "假设：对行权价接近目前股票价格的期权和成交量相对大的期权，市场的定价是合理的。\n",
    "方法：把定价合理的期权价格作为已知数，但如BS模型，计算出波动率，即为隐含波动率。 \n",
    "'''"
   ]
  }
 ],
 "metadata": {
  "kernelspec": {
   "display_name": "Python 3 (ipykernel)",
   "language": "python",
   "name": "python3"
  },
  "language_info": {
   "codemirror_mode": {
    "name": "ipython",
    "version": 3
   },
   "file_extension": ".py",
   "mimetype": "text/x-python",
   "name": "python",
   "nbconvert_exporter": "python",
   "pygments_lexer": "ipython3",
   "version": "3.9.7"
  }
 },
 "nbformat": 4,
 "nbformat_minor": 5
}
